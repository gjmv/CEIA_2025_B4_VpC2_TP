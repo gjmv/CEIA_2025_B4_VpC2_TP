{
 "cells": [
  {
   "cell_type": "markdown",
   "id": "fadd4f97a897731c",
   "metadata": {
    "collapsed": false,
    "id": "fadd4f97a897731c",
    "jupyter": {
     "outputs_hidden": false
    }
   },
   "source": [
    "# Visión por Computadora II - 2025 - B4 - Trabajo práctico integrador\n",
    "**Inteligencia Artificial - CEIA - FIUBA**\n",
    "\n",
    "## Autores\n",
    "\n",
    "- **Mendoza Dante**.\n",
    "\n",
    "- **Vasquez Jorge**.\n",
    "\n",
    "- **Viñas Gustavo**.\n",
    "\n",
    "**Dataset elegido:** https://www.kaggle.com/datasets/abdallahalidev/plantvillage-dataset\n",
    "\n",
    "**Descripcion:** Detección de enfermedades en cultivos agrícolas. Entrenar un modelo que identifique y clasifique enfermedades en plantas a partir de imágenes, ayudando a los agricultores a tomar medidas preventivas y reducir pérdidas.​\n",
    "\n",
    "**Enfoque:** Entrenar un modelo para identificar una enfermedad específica en una especie de planta utilizando imágenes.​"
   ]
  },
  {
   "cell_type": "markdown",
   "id": "23fbd90d",
   "metadata": {
    "id": "23fbd90d"
   },
   "source": [
    "# 💻 Montaje de entorno y definición de rutas\n",
    "\n",
    "- Definir entorno de proyecto.\n",
    "\n",
    "- Visualizar las rutas del dataset."
   ]
  },
  {
   "cell_type": "code",
   "execution_count": 1,
   "id": "f87522da",
   "metadata": {},
   "outputs": [
    {
     "name": "stdout",
     "output_type": "stream",
     "text": [
      "Note: you may need to restart the kernel to use updated packages.\n"
     ]
    }
   ],
   "source": [
    "%pip install --quiet -r requirements.txt"
   ]
  },
  {
   "cell_type": "code",
   "execution_count": 2,
   "id": "9076cea1-ed8a-4194-874e-d7e40b52f80c",
   "metadata": {
    "colab": {
     "base_uri": "https://localhost:8080/"
    },
    "executionInfo": {
     "elapsed": 83450,
     "status": "ok",
     "timestamp": 1757599823437,
     "user": {
      "displayName": "Héctor Dante Mendoza",
      "userId": "04431454177187757982"
     },
     "user_tz": 180
    },
    "id": "9076cea1-ed8a-4194-874e-d7e40b52f80c",
    "outputId": "20cd662e-92d5-4a26-d115-abba60be33b5"
   },
   "outputs": [
    {
     "name": "stdout",
     "output_type": "stream",
     "text": [
      "File 'tmp.zip' downloaded successfully.\n",
      "Successfully extracted 'tmp.zip' to 'datasets' for color subset.\n",
      "Ruta del dataset: datasets\\color\n",
      "Listado de carpetas: ['Apple___Apple_scab', 'Apple___Black_rot', 'Apple___Cedar_apple_rust', 'Apple___healthy', 'Blueberry___healthy', 'Cherry_(including_sour)___healthy', 'Cherry_(including_sour)___Powdery_mildew', 'Corn_(maize)___Cercospora_leaf_spot Gray_leaf_spot', 'Corn_(maize)___Common_rust_', 'Corn_(maize)___healthy']\n"
     ]
    }
   ],
   "source": [
    "import os, sys\n",
    "if 'utils' in sys.modules:\n",
    "    del sys.modules['utils']\n",
    "from utils import download_dataset\n",
    "\n",
    "# ====================================================\n",
    "# MONTAJE DE ENTORNO Y DEFINICIÓN DE RUTAS\n",
    "# ====================================================\n",
    "\n",
    "# Descargamos el dataset si no existe la carpeta\n",
    "base_dir = \"datasets\"\n",
    "subset = \"color\"\n",
    "download_dataset(base_dir, subset)\n",
    "\n",
    "\n",
    "# Ruta al dataset\n",
    "DATASET_PATH = os.path.join(base_dir, subset)\n",
    "\n",
    "print(\"Ruta del dataset:\", DATASET_PATH)\n",
    "print(\"Listado de carpetas:\", os.listdir(DATASET_PATH)[:10])"
   ]
  }
 ],
 "metadata": {
  "colab": {
   "provenance": [
    {
     "file_id": "1oQx_tYRa4fjQxje4OpLNLtEXrq1_Ia_Y",
     "timestamp": 1757474431028
    }
   ]
  },
  "kernelspec": {
   "display_name": "B4_VpC2",
   "language": "python",
   "name": "python3"
  },
  "language_info": {
   "codemirror_mode": {
    "name": "ipython",
    "version": 3
   },
   "file_extension": ".py",
   "mimetype": "text/x-python",
   "name": "python",
   "nbconvert_exporter": "python",
   "pygments_lexer": "ipython3",
   "version": "3.11.13"
  }
 },
 "nbformat": 4,
 "nbformat_minor": 5
}
